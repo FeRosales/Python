{
  "nbformat": 4,
  "nbformat_minor": 0,
  "metadata": {
    "colab": {
      "name": " lista de enteros.ipynb",
      "provenance": [],
      "authorship_tag": "ABX9TyNDaXmoFnAS4uw9OozDKrNl",
      "include_colab_link": true
    },
    "kernelspec": {
      "name": "python3",
      "display_name": "Python 3"
    },
    "language_info": {
      "name": "python"
    }
  },
  "cells": [
    {
      "cell_type": "markdown",
      "metadata": {
        "id": "view-in-github",
        "colab_type": "text"
      },
      "source": [
        "<a href=\"https://colab.research.google.com/github/FeRosales/Python/blob/main/lista_de_enteros.ipynb\" target=\"_parent\"><img src=\"https://colab.research.google.com/assets/colab-badge.svg\" alt=\"Open In Colab\"/></a>"
      ]
    },
    {
      "cell_type": "code",
      "metadata": {
        "id": "vQ9fopH1XmzX"
      },
      "source": [
        "def SumadeNo(n):\n",
        "  if n == 0:\n",
        "      return 0\n",
        "  else:\n",
        "      return n % 10 + SumadeNo(n // 10)"
      ],
      "execution_count": 21,
      "outputs": []
    },
    {
      "cell_type": "code",
      "metadata": {
        "colab": {
          "base_uri": "https://localhost:8080/"
        },
        "id": "EvAiAqjjYOX_",
        "outputId": "0ebfe007-c04e-43c8-870c-ead77ed20a68"
      },
      "source": [
        "print (SumadeNo(12345678))"
      ],
      "execution_count": 22,
      "outputs": [
        {
          "output_type": "stream",
          "name": "stdout",
          "text": [
            "36\n"
          ]
        }
      ]
    }
  ]
}