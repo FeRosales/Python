{
  "nbformat": 4,
  "nbformat_minor": 0,
  "metadata": {
    "colab": {
      "name": " lista de enteros.ipynb",
      "provenance": [],
      "authorship_tag": "ABX9TyNGgp9Xsdps9KEJx1rQ+trc",
      "include_colab_link": true
    },
    "kernelspec": {
      "name": "python3",
      "display_name": "Python 3"
    },
    "language_info": {
      "name": "python"
    }
  },
  "cells": [
    {
      "cell_type": "markdown",
      "metadata": {
        "id": "view-in-github",
        "colab_type": "text"
      },
      "source": [
        "<a href=\"https://colab.research.google.com/github/FeRosales/Python/blob/main/lista_de_enteros.ipynb\" target=\"_parent\"><img src=\"https://colab.research.google.com/assets/colab-badge.svg\" alt=\"Open In Colab\"/></a>"
      ]
    },
    {
      "cell_type": "code",
      "metadata": {
        "id": "vQ9fopH1XmzX"
      },
      "source": [
        "def SumadeNo(n):\n",
        "  if n == 0:\n",
        "      return 0\n",
        "  else:\n",
        "      return n % 10 + sumaNumero(n // 10)"
      ],
      "execution_count": 17,
      "outputs": []
    },
    {
      "cell_type": "code",
      "metadata": {
        "colab": {
          "base_uri": "https://localhost:8080/"
        },
        "id": "EvAiAqjjYOX_",
        "outputId": "d978ce57-533a-4d28-8ef3-aa7a82a21175"
      },
      "source": [
        "print (sumaNumero(12345678))"
      ],
      "execution_count": 18,
      "outputs": [
        {
          "output_type": "stream",
          "name": "stdout",
          "text": [
            "36\n"
          ]
        }
      ]
    }
  ]
}