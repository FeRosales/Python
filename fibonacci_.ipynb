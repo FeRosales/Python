{
  "nbformat": 4,
  "nbformat_minor": 0,
  "metadata": {
    "colab": {
      "name": "fibonacci .ipynb",
      "provenance": [],
      "authorship_tag": "ABX9TyNIqcS4ZyN4YPxaFJNpsoru",
      "include_colab_link": true
    },
    "kernelspec": {
      "name": "python3",
      "display_name": "Python 3"
    },
    "language_info": {
      "name": "python"
    }
  },
  "cells": [
    {
      "cell_type": "markdown",
      "metadata": {
        "id": "view-in-github",
        "colab_type": "text"
      },
      "source": [
        "<a href=\"https://colab.research.google.com/github/FeRosales/Python/blob/main/fibonacci_.ipynb\" target=\"_parent\"><img src=\"https://colab.research.google.com/assets/colab-badge.svg\" alt=\"Open In Colab\"/></a>"
      ]
    },
    {
      "cell_type": "code",
      "metadata": {
        "id": "3E_qbJvVVEEo"
      },
      "source": [
        "def fib (n):\n",
        "  if n == 0:\n",
        "    return 0\n",
        "  elif n == 1:\n",
        "    return 1\n",
        "  else:\n",
        "    return (fib(n-1)+fib(n-2))"
      ],
      "execution_count": 11,
      "outputs": []
    },
    {
      "cell_type": "code",
      "metadata": {
        "colab": {
          "base_uri": "https://localhost:8080/"
        },
        "id": "mSBVMF7ZUq9H",
        "outputId": "6e49227c-5c26-4978-c04c-e05506d2e84b"
      },
      "source": [
        "if __name__ == '__main__':\n",
        "    fibonacci = fib(7)\n",
        "    print('El número que está en la posición 7 de la serie es:')\n",
        "    print(fibonacci)"
      ],
      "execution_count": 13,
      "outputs": [
        {
          "output_type": "stream",
          "name": "stdout",
          "text": [
            "El número que está en la posición 7 de la serie es:\n",
            "13\n"
          ]
        }
      ]
    }
  ]
}