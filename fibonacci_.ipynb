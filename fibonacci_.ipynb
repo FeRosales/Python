{
  "nbformat": 4,
  "nbformat_minor": 0,
  "metadata": {
    "colab": {
      "name": "fibonacci .ipynb",
      "provenance": [],
      "authorship_tag": "ABX9TyNYeO3TU0vdLN7uyneI/1Lb",
      "include_colab_link": true
    },
    "kernelspec": {
      "name": "python3",
      "display_name": "Python 3"
    },
    "language_info": {
      "name": "python"
    }
  },
  "cells": [
    {
      "cell_type": "markdown",
      "metadata": {
        "id": "view-in-github",
        "colab_type": "text"
      },
      "source": [
        "<a href=\"https://colab.research.google.com/github/FeRosales/Python/blob/main/fibonacci_.ipynb\" target=\"_parent\"><img src=\"https://colab.research.google.com/assets/colab-badge.svg\" alt=\"Open In Colab\"/></a>"
      ]
    },
    {
      "cell_type": "code",
      "metadata": {
        "id": "3E_qbJvVVEEo"
      },
      "source": [
        "def fib (n):\n",
        "  if n == 0:\n",
        "    return 0\n",
        "  elif n == 1:\n",
        "    return 1\n",
        "  else:\n",
        "    return (fib(n-1)+fib(n-2))"
      ],
      "execution_count": 3,
      "outputs": []
    },
    {
      "cell_type": "code",
      "metadata": {
        "colab": {
          "base_uri": "https://localhost:8080/"
        },
        "id": "mSBVMF7ZUq9H",
        "outputId": "2e9bf366-2508-49fe-e60b-bf11f3ecb2e1"
      },
      "source": [
        "if __name__ == '__main__':\n",
        "    fibonacci = fib(3)\n",
        "    print('El número que está en la posición 3 de la serie es:')\n",
        "    print(fibonacci)"
      ],
      "execution_count": 10,
      "outputs": [
        {
          "output_type": "stream",
          "name": "stdout",
          "text": [
            "El número que está en la posición 3 de la serie es:\n",
            "2\n"
          ]
        }
      ]
    }
  ]
}