{
  "nbformat": 4,
  "nbformat_minor": 0,
  "metadata": {
    "colab": {
      "name": "contador.ipynb",
      "provenance": [],
      "authorship_tag": "ABX9TyMcVFXERCAQ9ajx/f9XwLo1",
      "include_colab_link": true
    },
    "kernelspec": {
      "name": "python3",
      "display_name": "Python 3"
    },
    "language_info": {
      "name": "python"
    }
  },
  "cells": [
    {
      "cell_type": "markdown",
      "metadata": {
        "id": "view-in-github",
        "colab_type": "text"
      },
      "source": [
        "<a href=\"https://colab.research.google.com/github/FeRosales/Python/blob/main/contador.ipynb\" target=\"_parent\"><img src=\"https://colab.research.google.com/assets/colab-badge.svg\" alt=\"Open In Colab\"/></a>"
      ]
    },
    {
      "cell_type": "code",
      "metadata": {
        "id": "RTXc1gdMZUUj"
      },
      "source": [
        "def explosión( n ):\n",
        "  if n >= 0 :\n",
        "    print( n )\n",
        "    despegue( n - 1 )\n",
        "    if n == 0:\n",
        "      print ( \"BOOOOMMMMM\")"
      ],
      "execution_count": 10,
      "outputs": []
    },
    {
      "cell_type": "code",
      "metadata": {
        "colab": {
          "base_uri": "https://localhost:8080/"
        },
        "id": "OWY3XquQZzyZ",
        "outputId": "30fa9d77-56e5-4f2b-9f74-20dec911a11e"
      },
      "source": [
        "explosión(10)"
      ],
      "execution_count": 9,
      "outputs": [
        {
          "output_type": "stream",
          "name": "stdout",
          "text": [
            "10\n",
            "9\n",
            "8\n",
            "7\n",
            "6\n",
            "5\n",
            "4\n",
            "3\n",
            "2\n",
            "1\n",
            "0\n",
            "BOOOOOOM\n"
          ]
        }
      ]
    }
  ]
}