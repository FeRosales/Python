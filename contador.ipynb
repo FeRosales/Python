{
  "nbformat": 4,
  "nbformat_minor": 0,
  "metadata": {
    "colab": {
      "name": "contador.ipynb",
      "provenance": [],
      "authorship_tag": "ABX9TyNZ7hY3GED8nNOsX50roYWR",
      "include_colab_link": true
    },
    "kernelspec": {
      "name": "python3",
      "display_name": "Python 3"
    },
    "language_info": {
      "name": "python"
    }
  },
  "cells": [
    {
      "cell_type": "markdown",
      "metadata": {
        "id": "view-in-github",
        "colab_type": "text"
      },
      "source": [
        "<a href=\"https://colab.research.google.com/github/FeRosales/Python/blob/main/contador.ipynb\" target=\"_parent\"><img src=\"https://colab.research.google.com/assets/colab-badge.svg\" alt=\"Open In Colab\"/></a>"
      ]
    },
    {
      "cell_type": "code",
      "metadata": {
        "id": "RTXc1gdMZUUj"
      },
      "source": [
        "def explosión( n ):\n",
        "  if n >= 0 :\n",
        "    print( n )\n",
        "    explosión( n - 1 )\n",
        "    if n == 0:\n",
        "      print ( \"BOOOOMMMMM\")"
      ],
      "execution_count": 17,
      "outputs": []
    },
    {
      "cell_type": "code",
      "metadata": {
        "colab": {
          "base_uri": "https://localhost:8080/"
        },
        "id": "OWY3XquQZzyZ",
        "outputId": "03073abc-d7f8-4760-83d2-cc298eba6cc6"
      },
      "source": [
        "explosión(10)"
      ],
      "execution_count": 18,
      "outputs": [
        {
          "output_type": "stream",
          "name": "stdout",
          "text": [
            "10\n",
            "9\n",
            "8\n",
            "7\n",
            "6\n",
            "5\n",
            "4\n",
            "3\n",
            "2\n",
            "1\n",
            "0\n",
            "BOOOOMMMMM\n"
          ]
        }
      ]
    }
  ]
}