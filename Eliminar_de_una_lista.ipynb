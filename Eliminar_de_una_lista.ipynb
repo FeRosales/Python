{
  "nbformat": 4,
  "nbformat_minor": 0,
  "metadata": {
    "colab": {
      "name": "Eliminar de una lista.ipynb",
      "provenance": [],
      "authorship_tag": "ABX9TyPCE5iKYrjbVX4/EkuAm29H",
      "include_colab_link": true
    },
    "kernelspec": {
      "name": "python3",
      "display_name": "Python 3"
    },
    "language_info": {
      "name": "python"
    }
  },
  "cells": [
    {
      "cell_type": "markdown",
      "metadata": {
        "id": "view-in-github",
        "colab_type": "text"
      },
      "source": [
        "<a href=\"https://colab.research.google.com/github/FeRosales/Python/blob/main/Eliminar_de_una_lista.ipynb\" target=\"_parent\"><img src=\"https://colab.research.google.com/assets/colab-badge.svg\" alt=\"Open In Colab\"/></a>"
      ]
    },
    {
      "cell_type": "code",
      "metadata": {
        "colab": {
          "base_uri": "https://localhost:8080/"
        },
        "id": "C6DR0Lf4bSct",
        "outputId": "e915c839-f99e-4315-f67d-449489d01ee7"
      },
      "source": [
        "EliminardeLista = [1, 7, 3, 13, 5, 6, 4, 34, 9, 17, 22, 2, 77, 132, 33]\n",
        "\n",
        "del(EliminardeLista[7])\n",
        "\n",
        "print (EliminardeLista)"
      ],
      "execution_count": 5,
      "outputs": [
        {
          "output_type": "stream",
          "name": "stdout",
          "text": [
            "[1, 7, 3, 13, 5, 6, 4, 9, 17, 22, 2, 77, 132, 33]\n"
          ]
        }
      ]
    }
  ]
}